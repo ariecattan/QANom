{
 "cells": [
  {
   "cell_type": "code",
   "execution_count": 8,
   "metadata": {},
   "outputs": [
    {
     "data": {
      "text/plain": [
       "[('a-horizon', 'N', 1)]"
      ]
     },
     "execution_count": 8,
     "metadata": {},
     "output_type": "execute_result"
    }
   ],
   "source": [
    "def get_catvar_pairs():\n",
    "    # catvar_pairs is a list of 16K tuples (nominalization, source-verb) for 13.8K nominalizations\n",
    "    import sys, os\n",
    "    from collections import defaultdict, Counter\n",
    "\n",
    "    catvar_corpus_path = \"resources/catvar21/catvar21.signed\"\n",
    "    catvar_clusters = []\n",
    "    with open(catvar_corpus_path, \"r\") as f:\n",
    "        for line in f.readlines():\n",
    "            cluster = [] # cluster of Words, each Word is a tuple (word-surface, pos, signature-num)\n",
    "            for word_info in line.strip().split(\"#\"):\n",
    "                word_and_pos, signature = word_info.split(\"%\")\n",
    "                word, pos = word_and_pos.split(\"_\")\n",
    "                cluster.append((word, pos, int(signature)))\n",
    "            catvar_clusters.append(cluster)      \n",
    "    def get_pairs(c):\n",
    "        for noun in [w[0] for w in c if w[1]=='N']:\n",
    "            for verb in [w[0] for w in c if w[1]=='V']:\n",
    "                yield (noun, verb)\n",
    "    catvar_pairs = [list(get_pairs(c))\n",
    "                   for c in catvar_clusters\n",
    "                   if len(c) > 1]\n",
    "    flatten = lambda l: [item for sublist in l for item in sublist]\n",
    "    catvar_pairs = flatten(catvar_pairs)\n",
    "    return catvar_pairs\n",
    "catvar_pairs = get_catvar_pairs()"
   ]
  },
  {
   "cell_type": "code",
   "execution_count": 20,
   "metadata": {},
   "outputs": [
    {
     "data": {
      "text/plain": [
       "13788"
      ]
     },
     "execution_count": 20,
     "metadata": {},
     "output_type": "execute_result"
    }
   ],
   "source": [
    "len(set(dict(catvar_pairs)))"
   ]
  }
 ],
 "metadata": {
  "kernelspec": {
   "display_name": "Python 2",
   "language": "python",
   "name": "python2"
  },
  "language_info": {
   "codemirror_mode": {
    "name": "ipython",
    "version": 2
   },
   "file_extension": ".py",
   "mimetype": "text/x-python",
   "name": "python",
   "nbconvert_exporter": "python",
   "pygments_lexer": "ipython2",
   "version": "2.7.15"
  }
 },
 "nbformat": 4,
 "nbformat_minor": 2
}
